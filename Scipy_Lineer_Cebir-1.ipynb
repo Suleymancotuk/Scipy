{
 "cells": [
  {
   "cell_type": "code",
   "execution_count": 44,
   "id": "3c34f342",
   "metadata": {},
   "outputs": [],
   "source": [
    "import numpy as np\n",
    "from scipy import linalg"
   ]
  },
  {
   "cell_type": "markdown",
   "id": "5dcb7b00",
   "metadata": {},
   "source": [
    "# Scipy Modülününden Lineer Cebir"
   ]
  },
  {
   "cell_type": "markdown",
   "id": "6196a2a4",
   "metadata": {},
   "source": [
    "4x4'lük Matris oluşturalım."
   ]
  },
  {
   "cell_type": "code",
   "execution_count": 2,
   "id": "26de76d8",
   "metadata": {},
   "outputs": [],
   "source": [
    "Matris=np.array([[23,24,12,11],[9,5,15,16],[10,7,27,31],[33,21,34,24]])"
   ]
  },
  {
   "cell_type": "markdown",
   "id": "2e1cffbe",
   "metadata": {},
   "source": [
    "Matrisi yazıralım.\n"
   ]
  },
  {
   "cell_type": "code",
   "execution_count": 3,
   "id": "01283241",
   "metadata": {},
   "outputs": [
    {
     "data": {
      "text/plain": [
       "array([[23, 24, 12, 11],\n",
       "       [ 9,  5, 15, 16],\n",
       "       [10,  7, 27, 31],\n",
       "       [33, 21, 34, 24]])"
      ]
     },
     "execution_count": 3,
     "metadata": {},
     "output_type": "execute_result"
    }
   ],
   "source": [
    "Matris"
   ]
  },
  {
   "cell_type": "markdown",
   "id": "bf159d75",
   "metadata": {},
   "source": [
    "Matirisin Tersini alalım."
   ]
  },
  {
   "cell_type": "code",
   "execution_count": 4,
   "id": "21140905",
   "metadata": {},
   "outputs": [],
   "source": [
    "Matris_ters=linalg.inv(Matris)"
   ]
  },
  {
   "cell_type": "markdown",
   "id": "5ce2858d",
   "metadata": {},
   "source": [
    "Matirisin Terisini yazdıralım."
   ]
  },
  {
   "cell_type": "code",
   "execution_count": 5,
   "id": "a41e3422",
   "metadata": {},
   "outputs": [
    {
     "data": {
      "text/plain": [
       "array([[-0.00383172,  0.59172662, -0.26736003, -0.04738818],\n",
       "       [ 0.05669378, -0.46942446,  0.20073506,  0.0276822 ],\n",
       "       [-0.0600563 , -0.58273381,  0.2177041 ,  0.13481389],\n",
       "       [ 0.04074132,  0.42266187, -0.11643728, -0.10838286]])"
      ]
     },
     "execution_count": 5,
     "metadata": {},
     "output_type": "execute_result"
    }
   ],
   "source": [
    "Matris_ters"
   ]
  },
  {
   "cell_type": "markdown",
   "id": "a9a7324d",
   "metadata": {},
   "source": [
    "Matrisin kendisi ile Matrisin Tersinin çarpımıdır."
   ]
  },
  {
   "cell_type": "code",
   "execution_count": 6,
   "id": "8a2646ea",
   "metadata": {},
   "outputs": [
    {
     "data": {
      "text/plain": [
       "array([[ 1.00000000e+00, -8.88178420e-16,  1.33226763e-15,\n",
       "         0.00000000e+00],\n",
       "       [-2.22044605e-16,  1.00000000e+00,  4.44089210e-16,\n",
       "         2.22044605e-16],\n",
       "       [-4.44089210e-16, -1.77635684e-15,  1.00000000e+00,\n",
       "         0.00000000e+00],\n",
       "       [-4.44089210e-16, -2.66453526e-15,  2.66453526e-15,\n",
       "         1.00000000e+00]])"
      ]
     },
     "execution_count": 6,
     "metadata": {},
     "output_type": "execute_result"
    }
   ],
   "source": [
    "Matris.dot(linalg.inv(Matris))"
   ]
  },
  {
   "cell_type": "code",
   "execution_count": 7,
   "id": "51fdb70c",
   "metadata": {},
   "outputs": [
    {
     "data": {
      "text/plain": [
       "array([[ 1.00000000e+00, -8.88178420e-16,  1.33226763e-15,\n",
       "         0.00000000e+00],\n",
       "       [-2.22044605e-16,  1.00000000e+00,  4.44089210e-16,\n",
       "         2.22044605e-16],\n",
       "       [-4.44089210e-16, -1.77635684e-15,  1.00000000e+00,\n",
       "         0.00000000e+00],\n",
       "       [-4.44089210e-16, -2.66453526e-15,  2.66453526e-15,\n",
       "         1.00000000e+00]])"
      ]
     },
     "execution_count": 7,
     "metadata": {},
     "output_type": "execute_result"
    }
   ],
   "source": [
    "Matris.dot(Matris_ters)"
   ]
  },
  {
   "cell_type": "markdown",
   "id": "9f89bad6",
   "metadata": {},
   "source": [
    "Matrisin kendisi ile çarpımı."
   ]
  },
  {
   "cell_type": "code",
   "execution_count": 8,
   "id": "82f9e844",
   "metadata": {},
   "outputs": [
    {
     "data": {
      "text/plain": [
       "array([[1228,  987, 1334, 1273],\n",
       "       [ 930,  682, 1132, 1028],\n",
       "       [1586, 1115, 2008, 1803],\n",
       "       [2080, 1639, 2445, 2329]])"
      ]
     },
     "execution_count": 8,
     "metadata": {},
     "output_type": "execute_result"
    }
   ],
   "source": [
    "Matris.dot(Matris)"
   ]
  },
  {
   "cell_type": "markdown",
   "id": "61e64779",
   "metadata": {},
   "source": [
    "Matrisin 0 ile 4 ile ve sonrasında 1.2 çarpımı"
   ]
  },
  {
   "cell_type": "code",
   "execution_count": 9,
   "id": "d653c922",
   "metadata": {},
   "outputs": [
    {
     "data": {
      "text/plain": [
       "array([[0, 0, 0, 0],\n",
       "       [0, 0, 0, 0],\n",
       "       [0, 0, 0, 0],\n",
       "       [0, 0, 0, 0]])"
      ]
     },
     "execution_count": 9,
     "metadata": {},
     "output_type": "execute_result"
    }
   ],
   "source": [
    "Matris.dot(0)"
   ]
  },
  {
   "cell_type": "code",
   "execution_count": 10,
   "id": "ba8d2019",
   "metadata": {},
   "outputs": [
    {
     "data": {
      "text/plain": [
       "array([[ 92,  96,  48,  44],\n",
       "       [ 36,  20,  60,  64],\n",
       "       [ 40,  28, 108, 124],\n",
       "       [132,  84, 136,  96]])"
      ]
     },
     "execution_count": 10,
     "metadata": {},
     "output_type": "execute_result"
    }
   ],
   "source": [
    "Matris.dot(4)"
   ]
  },
  {
   "cell_type": "code",
   "execution_count": 11,
   "id": "60494ee4",
   "metadata": {},
   "outputs": [
    {
     "data": {
      "text/plain": [
       "array([[27.6, 28.8, 14.4, 13.2],\n",
       "       [10.8,  6. , 18. , 19.2],\n",
       "       [12. ,  8.4, 32.4, 37.2],\n",
       "       [39.6, 25.2, 40.8, 28.8]])"
      ]
     },
     "execution_count": 11,
     "metadata": {},
     "output_type": "execute_result"
    }
   ],
   "source": [
    "Matris.dot(1.2)"
   ]
  },
  {
   "cell_type": "markdown",
   "id": "9f57eb2f",
   "metadata": {},
   "source": [
    "Matrisin determinatını bulup yazdıralım."
   ]
  },
  {
   "cell_type": "code",
   "execution_count": 12,
   "id": "28f11565",
   "metadata": {},
   "outputs": [
    {
     "data": {
      "text/plain": [
       "12788.000000000007"
      ]
     },
     "execution_count": 12,
     "metadata": {},
     "output_type": "execute_result"
    }
   ],
   "source": [
    "Matrisin_Determinatı=linalg.det(Matris)\n",
    "Matrisin_Determinatı"
   ]
  },
  {
   "cell_type": "code",
   "execution_count": 13,
   "id": "f5dd5b12",
   "metadata": {},
   "outputs": [
    {
     "data": {
      "text/plain": [
       "12788.000000000007"
      ]
     },
     "execution_count": 13,
     "metadata": {},
     "output_type": "execute_result"
    }
   ],
   "source": [
    "Matrisin_Determinatı_1=linalg.det(Matris,overwrite_a=True,)\n",
    "Matrisin_Determinatı_1"
   ]
  },
  {
   "cell_type": "code",
   "execution_count": 14,
   "id": "f6926da0",
   "metadata": {},
   "outputs": [
    {
     "data": {
      "text/plain": [
       "12788.000000000007"
      ]
     },
     "execution_count": 14,
     "metadata": {},
     "output_type": "execute_result"
    }
   ],
   "source": [
    "Matrisin_Determinatı_2=linalg.det(Matris,overwrite_a=True,check_finite=False)\n",
    "Matrisin_Determinatı_2"
   ]
  },
  {
   "cell_type": "code",
   "execution_count": 15,
   "id": "991b1a4a",
   "metadata": {},
   "outputs": [
    {
     "data": {
      "text/plain": [
       "12788.000000000007"
      ]
     },
     "execution_count": 15,
     "metadata": {},
     "output_type": "execute_result"
    }
   ],
   "source": [
    "Matrisin_Determinatı_2=linalg.det(Matris,overwrite_a=False,check_finite=False)\n",
    "Matrisin_Determinatı_2"
   ]
  },
  {
   "cell_type": "markdown",
   "id": "ed305137",
   "metadata": {},
   "source": [
    "Numpy modülünden 4x4 'lük birim matris oluşturduk."
   ]
  },
  {
   "cell_type": "code",
   "execution_count": 16,
   "id": "e56bb96b",
   "metadata": {},
   "outputs": [
    {
     "data": {
      "text/plain": [
       "array([[1., 0., 0., 0.],\n",
       "       [0., 1., 0., 0.],\n",
       "       [0., 0., 1., 0.],\n",
       "       [0., 0., 0., 1.]])"
      ]
     },
     "execution_count": 16,
     "metadata": {},
     "output_type": "execute_result"
    }
   ],
   "source": [
    "Birim_Matris=np.eye(4)\n",
    "Birim_Matris"
   ]
  },
  {
   "cell_type": "markdown",
   "id": "97bfc54f",
   "metadata": {},
   "source": [
    "Matrisi çözümlemek gibi düşünülebilir."
   ]
  },
  {
   "cell_type": "code",
   "execution_count": 17,
   "id": "e769bf29",
   "metadata": {},
   "outputs": [
    {
     "data": {
      "text/plain": [
       "array([[-0.00383172,  0.59172662, -0.26736003, -0.04738818],\n",
       "       [ 0.05669378, -0.46942446,  0.20073506,  0.0276822 ],\n",
       "       [-0.0600563 , -0.58273381,  0.2177041 ,  0.13481389],\n",
       "       [ 0.04074132,  0.42266187, -0.11643728, -0.10838286]])"
      ]
     },
     "execution_count": 17,
     "metadata": {},
     "output_type": "execute_result"
    }
   ],
   "source": [
    "linalg.solve(Matris,Birim_Matris)"
   ]
  },
  {
   "cell_type": "markdown",
   "id": "42b01fec",
   "metadata": {},
   "source": [
    "Bu işlemi yapınca değerlerin 2 ile çarpıldığı görülüyor."
   ]
  },
  {
   "cell_type": "code",
   "execution_count": 18,
   "id": "9b703805",
   "metadata": {},
   "outputs": [
    {
     "data": {
      "text/plain": [
       "array([[-0.00766343,  1.18345324, -0.53472005, -0.09477635],\n",
       "       [ 0.11338755, -0.93884892,  0.40147013,  0.0553644 ],\n",
       "       [-0.12011261, -1.16546763,  0.4354082 ,  0.26962778],\n",
       "       [ 0.08148264,  0.84532374, -0.23287457, -0.21676572]])"
      ]
     },
     "execution_count": 18,
     "metadata": {},
     "output_type": "execute_result"
    }
   ],
   "source": [
    "linalg.solve(Matris,Birim_Matris.dot(2))"
   ]
  },
  {
   "cell_type": "markdown",
   "id": "1a808f19",
   "metadata": {},
   "source": [
    "Lower true dediğimde pek bişey değişmedi."
   ]
  },
  {
   "cell_type": "code",
   "execution_count": 19,
   "id": "472fafee",
   "metadata": {},
   "outputs": [
    {
     "data": {
      "text/plain": [
       "array([[-0.00383172,  0.59172662, -0.26736003, -0.04738818],\n",
       "       [ 0.05669378, -0.46942446,  0.20073506,  0.0276822 ],\n",
       "       [-0.0600563 , -0.58273381,  0.2177041 ,  0.13481389],\n",
       "       [ 0.04074132,  0.42266187, -0.11643728, -0.10838286]])"
      ]
     },
     "execution_count": 19,
     "metadata": {},
     "output_type": "execute_result"
    }
   ],
   "source": [
    "linalg.solve(Matris,Birim_Matris,lower=True)"
   ]
  },
  {
   "cell_type": "markdown",
   "id": "f5e99a89",
   "metadata": {},
   "source": [
    "Genel Matris anlamındaki 'gen' parametresini kullandım ve yine bişeyler değişmedi default olarak zaten bu geliyordu."
   ]
  },
  {
   "cell_type": "code",
   "execution_count": 20,
   "id": "877575b0",
   "metadata": {},
   "outputs": [
    {
     "data": {
      "text/plain": [
       "array([[-0.00383172,  0.59172662, -0.26736003, -0.04738818],\n",
       "       [ 0.05669378, -0.46942446,  0.20073506,  0.0276822 ],\n",
       "       [-0.0600563 , -0.58273381,  0.2177041 ,  0.13481389],\n",
       "       [ 0.04074132,  0.42266187, -0.11643728, -0.10838286]])"
      ]
     },
     "execution_count": 20,
     "metadata": {},
     "output_type": "execute_result"
    }
   ],
   "source": [
    "linalg.solve(Matris,Birim_Matris,lower=True,assume_a=\"gen\")"
   ]
  },
  {
   "cell_type": "markdown",
   "id": "e077d361",
   "metadata": {},
   "source": [
    "Transposed=True yaptığımda ortaya çıkan matrisin transpozunu sunuyor."
   ]
  },
  {
   "cell_type": "code",
   "execution_count": 21,
   "id": "63f47279",
   "metadata": {},
   "outputs": [
    {
     "data": {
      "text/plain": [
       "array([[-0.00383172,  0.05669378, -0.0600563 ,  0.04074132],\n",
       "       [ 0.59172662, -0.46942446, -0.58273381,  0.42266187],\n",
       "       [-0.26736003,  0.20073506,  0.2177041 , -0.11643728],\n",
       "       [-0.04738818,  0.0276822 ,  0.13481389, -0.10838286]])"
      ]
     },
     "execution_count": 21,
     "metadata": {},
     "output_type": "execute_result"
    }
   ],
   "source": [
    "linalg.solve(Matris,Birim_Matris,lower=True,assume_a=\"gen\",transposed=True)"
   ]
  },
  {
   "cell_type": "markdown",
   "id": "bd674b88",
   "metadata": {},
   "source": [
    "Simetrik Matris anlamındaki 'sym' parametresini kullandım ve bişeyler değişti."
   ]
  },
  {
   "cell_type": "code",
   "execution_count": 22,
   "id": "b07e4551",
   "metadata": {},
   "outputs": [
    {
     "data": {
      "text/plain": [
       "array([[ 0.15004933, -0.26583291,  0.02519933, -0.00941308],\n",
       "       [-0.26583291,  0.56123837, -0.14167622,  0.07514466],\n",
       "       [ 0.02519933, -0.14167622,  0.06127837,  0.0025066 ],\n",
       "       [-0.00941308,  0.07514466,  0.0025066 , -0.01469294]])"
      ]
     },
     "execution_count": 22,
     "metadata": {},
     "output_type": "execute_result"
    }
   ],
   "source": [
    "linalg.solve(Matris,Birim_Matris,lower=True,assume_a=\"sym\")"
   ]
  },
  {
   "cell_type": "code",
   "execution_count": 23,
   "id": "01817351",
   "metadata": {},
   "outputs": [
    {
     "data": {
      "text/plain": [
       "array([[ 0.15004933, -0.26583291,  0.02519933, -0.00941308],\n",
       "       [-0.26583291,  0.56123837, -0.14167622,  0.07514466],\n",
       "       [ 0.02519933, -0.14167622,  0.06127837,  0.0025066 ],\n",
       "       [-0.00941308,  0.07514466,  0.0025066 , -0.01469294]])"
      ]
     },
     "execution_count": 23,
     "metadata": {},
     "output_type": "execute_result"
    }
   ],
   "source": [
    "linalg.solve(Matris,Birim_Matris,lower=True,assume_a=\"sym\",transposed=True)"
   ]
  },
  {
   "cell_type": "markdown",
   "id": "4c9d918e",
   "metadata": {},
   "source": [
    "Hermitian Matris anlamındaki 'her' parametresini kullandım ve yine bişeyler değişti."
   ]
  },
  {
   "cell_type": "code",
   "execution_count": 24,
   "id": "5a3a91a7",
   "metadata": {},
   "outputs": [
    {
     "data": {
      "text/plain": [
       "array([[ 0.15004933, -0.26583291,  0.02519933, -0.00941308],\n",
       "       [-0.26583291,  0.56123837, -0.14167622,  0.07514466],\n",
       "       [ 0.02519933, -0.14167622,  0.06127837,  0.0025066 ],\n",
       "       [-0.00941308,  0.07514466,  0.0025066 , -0.01469294]])"
      ]
     },
     "execution_count": 24,
     "metadata": {},
     "output_type": "execute_result"
    }
   ],
   "source": [
    "linalg.solve(Matris,Birim_Matris,lower=True,assume_a=\"her\")"
   ]
  },
  {
   "cell_type": "code",
   "execution_count": 25,
   "id": "6babcb30",
   "metadata": {},
   "outputs": [
    {
     "data": {
      "text/plain": [
       "array([[ 0.15004933, -0.26583291,  0.02519933, -0.00941308],\n",
       "       [-0.26583291,  0.56123837, -0.14167622,  0.07514466],\n",
       "       [ 0.02519933, -0.14167622,  0.06127837,  0.0025066 ],\n",
       "       [-0.00941308,  0.07514466,  0.0025066 , -0.01469294]])"
      ]
     },
     "execution_count": 25,
     "metadata": {},
     "output_type": "execute_result"
    }
   ],
   "source": [
    "linalg.solve(Matris,Birim_Matris,lower=True,assume_a=\"her\",transposed=True)"
   ]
  },
  {
   "cell_type": "markdown",
   "id": "32ac66a9",
   "metadata": {},
   "source": [
    "Daha iyi anlamak için Matrislerin yerlerini değiştitip denedim."
   ]
  },
  {
   "cell_type": "code",
   "execution_count": 26,
   "id": "9fa860e8",
   "metadata": {},
   "outputs": [
    {
     "data": {
      "text/plain": [
       "array([[23., 24., 12., 11.],\n",
       "       [ 9.,  5., 15., 16.],\n",
       "       [10.,  7., 27., 31.],\n",
       "       [33., 21., 34., 24.]])"
      ]
     },
     "execution_count": 26,
     "metadata": {},
     "output_type": "execute_result"
    }
   ],
   "source": [
    "linalg.solve(Birim_Matris,Matris)"
   ]
  },
  {
   "cell_type": "code",
   "execution_count": 27,
   "id": "5a0d5b1d",
   "metadata": {},
   "outputs": [
    {
     "data": {
      "text/plain": [
       "array([[11.5, 12. ,  6. ,  5.5],\n",
       "       [ 4.5,  2.5,  7.5,  8. ],\n",
       "       [ 5. ,  3.5, 13.5, 15.5],\n",
       "       [16.5, 10.5, 17. , 12. ]])"
      ]
     },
     "execution_count": 27,
     "metadata": {},
     "output_type": "execute_result"
    }
   ],
   "source": [
    "linalg.solve(Birim_Matris.dot(2),Matris)"
   ]
  },
  {
   "cell_type": "code",
   "execution_count": 28,
   "id": "945859a1",
   "metadata": {},
   "outputs": [
    {
     "data": {
      "text/plain": [
       "array([[ 7.66666667,  8.        ,  4.        ,  3.66666667],\n",
       "       [ 3.        ,  1.66666667,  5.        ,  5.33333333],\n",
       "       [ 3.33333333,  2.33333333,  9.        , 10.33333333],\n",
       "       [11.        ,  7.        , 11.33333333,  8.        ]])"
      ]
     },
     "execution_count": 28,
     "metadata": {},
     "output_type": "execute_result"
    }
   ],
   "source": [
    "linalg.solve(Birim_Matris.dot(3),Matris)"
   ]
  },
  {
   "cell_type": "code",
   "execution_count": 29,
   "id": "0483b7f1",
   "metadata": {},
   "outputs": [
    {
     "data": {
      "text/plain": [
       "array([[23., 24., 12., 11.],\n",
       "       [ 9.,  5., 15., 16.],\n",
       "       [10.,  7., 27., 31.],\n",
       "       [33., 21., 34., 24.]])"
      ]
     },
     "execution_count": 29,
     "metadata": {},
     "output_type": "execute_result"
    }
   ],
   "source": [
    "linalg.solve(Birim_Matris,Matris,lower=True,assume_a=\"gen\")"
   ]
  },
  {
   "cell_type": "code",
   "execution_count": 30,
   "id": "4c0c9c82",
   "metadata": {},
   "outputs": [
    {
     "data": {
      "text/plain": [
       "array([[23., 24., 12., 11.],\n",
       "       [ 9.,  5., 15., 16.],\n",
       "       [10.,  7., 27., 31.],\n",
       "       [33., 21., 34., 24.]])"
      ]
     },
     "execution_count": 30,
     "metadata": {},
     "output_type": "execute_result"
    }
   ],
   "source": [
    "linalg.solve(Birim_Matris,Matris,lower=True,assume_a=\"sym\")"
   ]
  },
  {
   "cell_type": "code",
   "execution_count": 31,
   "id": "695bb9c1",
   "metadata": {},
   "outputs": [
    {
     "data": {
      "text/plain": [
       "array([[23., 24., 12., 11.],\n",
       "       [ 9.,  5., 15., 16.],\n",
       "       [10.,  7., 27., 31.],\n",
       "       [33., 21., 34., 24.]])"
      ]
     },
     "execution_count": 31,
     "metadata": {},
     "output_type": "execute_result"
    }
   ],
   "source": [
    "linalg.solve(Birim_Matris,Matris,lower=True,assume_a=\"her\")"
   ]
  },
  {
   "cell_type": "code",
   "execution_count": 32,
   "id": "454283e0",
   "metadata": {},
   "outputs": [
    {
     "data": {
      "text/plain": [
       "array([[11.5, 12. ,  6. ,  5.5],\n",
       "       [ 4.5,  2.5,  7.5,  8. ],\n",
       "       [ 5. ,  3.5, 13.5, 15.5],\n",
       "       [16.5, 10.5, 17. , 12. ]])"
      ]
     },
     "execution_count": 32,
     "metadata": {},
     "output_type": "execute_result"
    }
   ],
   "source": [
    "linalg.solve(Birim_Matris.dot(2),Matris,lower=True,assume_a=\"gen\")"
   ]
  },
  {
   "cell_type": "code",
   "execution_count": 33,
   "id": "e1000dbe",
   "metadata": {},
   "outputs": [
    {
     "data": {
      "text/plain": [
       "array([[11.5, 12. ,  6. ,  5.5],\n",
       "       [ 4.5,  2.5,  7.5,  8. ],\n",
       "       [ 5. ,  3.5, 13.5, 15.5],\n",
       "       [16.5, 10.5, 17. , 12. ]])"
      ]
     },
     "execution_count": 33,
     "metadata": {},
     "output_type": "execute_result"
    }
   ],
   "source": [
    "linalg.solve(Birim_Matris.dot(2),Matris,lower=True,assume_a=\"sym\")"
   ]
  },
  {
   "cell_type": "code",
   "execution_count": 34,
   "id": "d24df929",
   "metadata": {},
   "outputs": [
    {
     "data": {
      "text/plain": [
       "array([[11.5, 12. ,  6. ,  5.5],\n",
       "       [ 4.5,  2.5,  7.5,  8. ],\n",
       "       [ 5. ,  3.5, 13.5, 15.5],\n",
       "       [16.5, 10.5, 17. , 12. ]])"
      ]
     },
     "execution_count": 34,
     "metadata": {},
     "output_type": "execute_result"
    }
   ],
   "source": [
    "linalg.solve(Birim_Matris.dot(2),Matris,lower=True,assume_a=\"her\")"
   ]
  },
  {
   "cell_type": "markdown",
   "id": "e9e4ed8e",
   "metadata": {},
   "source": [
    "Anlaşılan o ki matrislerin yerleri bu işlemlerde önemli rol oynuyor dikkat etmekte fayda var.\n",
    "* Birim matris simetrix bir matris olduğu için neyle çarparsak çarpalım simetrik yapısını koruyor.\n",
    "\n",
    "* Matris olarak bir matrisin hermisyen olması  H*=H şeklinde ifade edilir.\n",
    "\n",
    "* Hermisyen matrislerin en önemli özelliği üniter bir değişimle köşegenleştirilebilir olmaları ve köşegen elemanların gerçel olmaları zorunluluğu yüzünden gerçel özdeğerlere sahip olmalarıdır.\n",
    "\n",
    "* Başka bir matrisle denemek daha çok şey öğretebilir.\n"
   ]
  },
  {
   "cell_type": "code",
   "execution_count": 41,
   "id": "eaca650e",
   "metadata": {},
   "outputs": [
    {
     "data": {
      "text/plain": [
       "array([[ 1,  2,  3,  4],\n",
       "       [ 3,  4,  5,  6],\n",
       "       [ 5,  6,  7,  8],\n",
       "       [ 7,  8,  9, 10]])"
      ]
     },
     "execution_count": 41,
     "metadata": {},
     "output_type": "execute_result"
    }
   ],
   "source": [
    "Matris_2=np.array([[1,2,3,4],[3,4,5,6],[5,6,7,8],[7,8,9,10]])\n",
    "Matris_2"
   ]
  },
  {
   "cell_type": "markdown",
   "id": "75923c02",
   "metadata": {},
   "source": [
    "Bana zaten varsıyan assume_a'nın gen olduğunu söylen bir hata mesajı verdi."
   ]
  },
  {
   "cell_type": "code",
   "execution_count": 42,
   "id": "b6877218",
   "metadata": {},
   "outputs": [
    {
     "name": "stderr",
     "output_type": "stream",
     "text": [
      "C:\\Users\\suley\\AppData\\Local\\Temp/ipykernel_12096/696114814.py:1: LinAlgWarning: Ill-conditioned matrix (rcond=7.77467e-20): result may not be accurate.\n",
      "  linalg.solve(Matris_2,Matris,assume_a=\"gen\")\n"
     ]
    },
    {
     "data": {
      "text/plain": [
       "array([[ 1.98158384e+16,  1.08086391e+16, -4.50359963e+15,\n",
       "        -1.98158384e+16],\n",
       "       [-1.22317766e+18, -1.47537924e+18, -5.04403158e+17,\n",
       "        -3.53082211e+17],\n",
       "       [ 2.38690780e+18,  2.91833256e+18,  1.02231712e+18,\n",
       "         7.65611937e+17],\n",
       "       [-1.18354598e+18, -1.45376196e+18, -5.13410358e+17,\n",
       "        -3.92713888e+17]])"
      ]
     },
     "execution_count": 42,
     "metadata": {},
     "output_type": "execute_result"
    }
   ],
   "source": [
    "linalg.solve(Matris_2,Matris,assume_a=\"gen\")"
   ]
  },
  {
   "cell_type": "code",
   "execution_count": 43,
   "id": "a15d5743",
   "metadata": {},
   "outputs": [
    {
     "data": {
      "text/plain": [
       "array([[  1. ,  -8. ,   7. ,  -3. ],\n",
       "       [-15. , -21. ,  -9. , -10. ],\n",
       "       [-22. , -12. ,   5. ,  22. ],\n",
       "       [ 29.5,  27.5,   2. ,  -8. ]])"
      ]
     },
     "execution_count": 43,
     "metadata": {},
     "output_type": "execute_result"
    }
   ],
   "source": [
    "linalg.solve(Matris_2,Matris,assume_a=\"sym\")"
   ]
  },
  {
   "cell_type": "code",
   "execution_count": 40,
   "id": "efda5de7",
   "metadata": {},
   "outputs": [
    {
     "data": {
      "text/plain": [
       "array([[  1. ,  -8. ,   7. ,  -3. ],\n",
       "       [-15. , -21. ,  -9. , -10. ],\n",
       "       [-22. , -12. ,   5. ,  22. ],\n",
       "       [ 29.5,  27.5,   2. ,  -8. ]])"
      ]
     },
     "execution_count": 40,
     "metadata": {},
     "output_type": "execute_result"
    }
   ],
   "source": [
    "linalg.solve(Matris_2,Matris,assume_a=\"her\")"
   ]
  },
  {
   "cell_type": "markdown",
   "id": "5f2aae96",
   "metadata": {},
   "source": [
    "Bu iki yöntem arasında fark göremedim.Devam edecek.."
   ]
  }
 ],
 "metadata": {
  "kernelspec": {
   "display_name": "Python 3 (ipykernel)",
   "language": "python",
   "name": "python3"
  },
  "language_info": {
   "codemirror_mode": {
    "name": "ipython",
    "version": 3
   },
   "file_extension": ".py",
   "mimetype": "text/x-python",
   "name": "python",
   "nbconvert_exporter": "python",
   "pygments_lexer": "ipython3",
   "version": "3.9.7"
  }
 },
 "nbformat": 4,
 "nbformat_minor": 5
}
